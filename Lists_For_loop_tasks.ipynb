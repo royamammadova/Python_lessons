{
  "nbformat": 4,
  "nbformat_minor": 0,
  "metadata": {
    "colab": {
      "provenance": [],
      "include_colab_link": true
    },
    "kernelspec": {
      "name": "python3",
      "display_name": "Python 3"
    },
    "language_info": {
      "name": "python"
    }
  },
  "cells": [
    {
      "cell_type": "markdown",
      "metadata": {
        "id": "view-in-github",
        "colab_type": "text"
      },
      "source": [
        "<a href=\"https://colab.research.google.com/github/royamammadova/Python_lessons/blob/main/Lists_For_loop_tasks.ipynb\" target=\"_parent\"><img src=\"https://colab.research.google.com/assets/colab-badge.svg\" alt=\"Open In Colab\"/></a>"
      ]
    },
    {
      "cell_type": "markdown",
      "source": [
        "# Lists:For Loop\n",
        "1. Convert a list of characters into a string. For example,\n",
        "\n",
        "\n",
        "```\n",
        "['a', 'b', 'c', 'd'] -> \"abcd\"\n",
        "```\n",
        "\n",
        "2. Calculate the area of a circle using its radius. **Get input from user** (pi = 3.14)\n",
        "\n",
        "3. Write a Python program that takes three numbers as input and prints the largest number. **Get Input from user.**\n",
        "\n",
        "```\n",
        "Enter first number:\n",
        "2\n",
        "Enter second number:\n",
        "6\n",
        "Enter third number:\n",
        "8\n",
        "Output: 862\n",
        "```\n",
        "\n",
        "4. Write a Python program that takes a list of integers and creates a new list containing the squares of each integer in the original list.\n",
        "\n",
        "```\n",
        "Input:\n",
        "[1, 2, 3, 4, 5]\n",
        "Output:\n",
        "[1, 4, 9, 16, 25]\n",
        "\n",
        "```\n",
        "\n",
        "5. Write a Python program that creates a new list where each element is the cumulative sum of the elements from the original list.\n",
        "\n",
        "```\n",
        "Input:\n",
        "[1, 2, 3, 4]\n",
        "Output:\n",
        "[1, 3, 6, 10]\n",
        "\n",
        "```"
      ],
      "metadata": {
        "id": "hdSFVbFZMhQN"
      }
    },
    {
      "cell_type": "code",
      "source": [
        "#Task1\n",
        "list1=['a', 'b', 'c', 'd']\n",
        "for i in list1:\n",
        "  print(str(i),end='')"
      ],
      "metadata": {
        "colab": {
          "base_uri": "https://localhost:8080/"
        },
        "id": "5ZbF1aEeiwnH",
        "outputId": "d5402a51-a172-4c15-c4aa-4a1195d8e8fc"
      },
      "execution_count": null,
      "outputs": [
        {
          "output_type": "stream",
          "name": "stdout",
          "text": [
            "abcd"
          ]
        }
      ]
    },
    {
      "cell_type": "code",
      "source": [
        "#Task2\n",
        "pi = 3.14\n",
        "radius=int(input('Enter the radius of the circle:'))\n",
        "area=pi*radius**2\n",
        "print(area)"
      ],
      "metadata": {
        "colab": {
          "base_uri": "https://localhost:8080/"
        },
        "id": "1Cn13SkHjX2D",
        "outputId": "ce56b4e7-d0ea-4995-cbea-17ea1d438ba0"
      },
      "execution_count": null,
      "outputs": [
        {
          "output_type": "stream",
          "name": "stdout",
          "text": [
            "Enter the radius of the circle:5\n",
            "78.5\n"
          ]
        }
      ]
    },
    {
      "cell_type": "code",
      "source": [
        "#Task3\n",
        "a=input('Enter first number:')\n",
        "b=input('Enter second number:')\n",
        "c=input('Enter third number:')\n",
        "if a>b and a>c and b>c:\n",
        "  print(a+b+c)\n",
        "elif b>a and b>c and a>c:\n",
        "  print(b+a+c)\n",
        "else:\n",
        "  print(c+b+a)\n"
      ],
      "metadata": {
        "colab": {
          "base_uri": "https://localhost:8080/"
        },
        "id": "c7AAmy_0jqBp",
        "outputId": "9eaff83c-5eda-41d6-fa55-cbac0e186798"
      },
      "execution_count": null,
      "outputs": [
        {
          "output_type": "stream",
          "name": "stdout",
          "text": [
            "Enter first number:5\n",
            "Enter second number:8\n",
            "Enter third number:2\n",
            "852\n"
          ]
        }
      ]
    },
    {
      "cell_type": "code",
      "source": [
        "#Task4\n",
        "list2=[1, 2, 3, 4]\n",
        "sq_list=[]\n",
        "for i in list2:\n",
        "  i=i**2\n",
        "  sq_list.append(i)\n",
        "print(sq_list)"
      ],
      "metadata": {
        "colab": {
          "base_uri": "https://localhost:8080/"
        },
        "id": "9PdX8C8fl8Kq",
        "outputId": "6b3fd7fa-9021-4b92-ff58-c5f8d9877cbf"
      },
      "execution_count": null,
      "outputs": [
        {
          "output_type": "stream",
          "name": "stdout",
          "text": [
            "[1, 4, 9, 16]\n"
          ]
        }
      ]
    },
    {
      "cell_type": "code",
      "source": [
        "#Task5\n",
        "lst=[1, 2, 3, 4]\n",
        "lst_sum=[]\n",
        "sum=0\n",
        "for i in lst:\n",
        "  sum=sum+i\n",
        "  lst_sum.append(sum)\n",
        "print(lst_sum)"
      ],
      "metadata": {
        "colab": {
          "base_uri": "https://localhost:8080/"
        },
        "id": "IUNsmogAmgN0",
        "outputId": "eea91c76-fdd8-438d-cf66-3ca10558b92b"
      },
      "execution_count": null,
      "outputs": [
        {
          "output_type": "stream",
          "name": "stdout",
          "text": [
            "[1, 3, 6, 10]\n"
          ]
        }
      ]
    }
  ]
}