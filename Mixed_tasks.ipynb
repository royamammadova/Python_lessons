{
  "nbformat": 4,
  "nbformat_minor": 0,
  "metadata": {
    "colab": {
      "provenance": [],
      "include_colab_link": true
    },
    "kernelspec": {
      "name": "python3",
      "display_name": "Python 3"
    },
    "language_info": {
      "name": "python"
    }
  },
  "cells": [
    {
      "cell_type": "markdown",
      "metadata": {
        "id": "view-in-github",
        "colab_type": "text"
      },
      "source": [
        "<a href=\"https://colab.research.google.com/github/royamammadova/Python_lessons/blob/main/Mixed_tasks.ipynb\" target=\"_parent\"><img src=\"https://colab.research.google.com/assets/colab-badge.svg\" alt=\"Open In Colab\"/></a>"
      ]
    },
    {
      "cell_type": "markdown",
      "source": [
        "1) Get the keys from the dictionaries named *sample_dic* as a list\n",
        "```\n",
        "sample_dict = {\n",
        "    'Physics': 82,\n",
        "    'Math': 65,\n",
        "    'history': 75\n",
        "}\n",
        "```\n",
        "\n"
      ],
      "metadata": {
        "id": "t0LHIhxSJLoq"
      }
    },
    {
      "cell_type": "code",
      "source": [
        "#Task1\n",
        "sample_dict = {\n",
        "    'Physics': 82,\n",
        "    'Math': 65,\n",
        "    'history': 75\n",
        "}\n",
        "sample_dic=[]\n",
        "for key in sample_dict:\n",
        "  sample_dic.append(key)\n",
        "print(sample_dic)"
      ],
      "metadata": {
        "id": "_pOxZ36t5J6J",
        "outputId": "8ab7fbf2-8126-4adb-896b-8fd988279f5a",
        "colab": {
          "base_uri": "https://localhost:8080/"
        }
      },
      "execution_count": null,
      "outputs": [
        {
          "output_type": "stream",
          "name": "stdout",
          "text": [
            "['Physics', 'Math', 'history']\n"
          ]
        }
      ]
    },
    {
      "cell_type": "markdown",
      "source": [
        "2) Get sum of all the values in a dict\n",
        "\n",
        "```\n",
        "#Input:\n",
        "sample_dict = {\n",
        "    'Physics': 82,\n",
        "    'Math': 65,\n",
        "    'history': 75,\n",
        "    'chemistry': 89,\n",
        "    'GK': 50\n",
        "    \n",
        "}\n",
        "\n",
        "#Expected Output: 361\n",
        "\n",
        "```"
      ],
      "metadata": {
        "id": "w5sNggvfKBPs"
      }
    },
    {
      "cell_type": "code",
      "source": [
        "#Task2\n",
        "sample_dict = {\n",
        "    'Physics': 82,\n",
        "    'Math': 65,\n",
        "    'history': 75,\n",
        "    'chemistry': 89,\n",
        "    'GK': 50\n",
        "\n",
        "}\n",
        "print(sum(sample_dict.values()))"
      ],
      "metadata": {
        "id": "0BD7XSvn5pPn",
        "outputId": "66f6d594-074e-4eb8-c63d-3a131391f7c2",
        "colab": {
          "base_uri": "https://localhost:8080/"
        }
      },
      "execution_count": null,
      "outputs": [
        {
          "output_type": "stream",
          "name": "stdout",
          "text": [
            "361\n"
          ]
        }
      ]
    },
    {
      "cell_type": "markdown",
      "source": [
        "3)Get the key of a minimum value from the following dictionary\n",
        "\n",
        "```\n",
        "#Input:\n",
        "sample_dict = {\n",
        "  'Physics': 82,\n",
        "  'Math': 65,\n",
        "  'history': 75\n",
        "}\n",
        "\n",
        "#Expected Output: Math\n",
        "\n",
        "```"
      ],
      "metadata": {
        "id": "hXoPfj4-JXko"
      }
    },
    {
      "cell_type": "code",
      "source": [
        "#Task3\n",
        "sample_dict = {\n",
        "  'Physics': 82,\n",
        "  'Math': 65,\n",
        "  'history': 75\n",
        "}\n",
        "print(min(sample_dict.values()))"
      ],
      "metadata": {
        "colab": {
          "base_uri": "https://localhost:8080/"
        },
        "id": "PNaoBFtL7J43",
        "outputId": "768ac9f9-44fb-4007-95b8-8043197cb8e5"
      },
      "execution_count": 5,
      "outputs": [
        {
          "output_type": "stream",
          "name": "stdout",
          "text": [
            "65\n"
          ]
        }
      ]
    },
    {
      "cell_type": "markdown",
      "source": [
        "4) Delete a list of keys from a dictionary\n",
        "```\n",
        "#Inputs:\n",
        "sample_dict = {\n",
        "    \"name\": \"Khalid\",\n",
        "    \"age\": 23,\n",
        "    \"salary\": 1000,\n",
        "    \"city\": \"Baku\"\n",
        "}\n",
        "\n",
        "# Keys to remove\n",
        "keys = [\"name\", \"salary\"]\n",
        "\n",
        "# Expected Output: {'city': 'Baku', 'age': 23}\n",
        "```"
      ],
      "metadata": {
        "id": "CTSGF0hmJgDD"
      }
    },
    {
      "cell_type": "code",
      "source": [
        "#Task4\n",
        "sample_dict = {\n",
        "    \"name\": \"Khalid\",\n",
        "    \"age\": 23,\n",
        "    \"salary\": 1000,\n",
        "    \"city\": \"Baku\"\n",
        "}\n",
        "del sample_dict['name']\n",
        "del sample_dict['salary']\n",
        "print(sample_dict)"
      ],
      "metadata": {
        "colab": {
          "base_uri": "https://localhost:8080/"
        },
        "id": "-imAdtdnD8BA",
        "outputId": "2cf13ee6-782a-414d-e83c-f81f2ae3727f"
      },
      "execution_count": 7,
      "outputs": [
        {
          "output_type": "stream",
          "name": "stdout",
          "text": [
            "{'age': 23, 'city': 'Baku'}\n"
          ]
        }
      ]
    },
    {
      "cell_type": "markdown",
      "source": [
        "5) Create a dictionary by extracting the keys from a given dictionary\n",
        "\n",
        "```\n",
        "# Inputs:\n",
        "sample_dict = {\n",
        "    \"name\": \"Khalid\",\n",
        "    \"age\": 23,\n",
        "    \"salary\": 1000,\n",
        "    \"city\": \"Baku\"}\n",
        "\n",
        "# Keys to extract\n",
        "keys = [\"name\", \"salary\"]\n",
        "\n",
        "# Expected Output: {'name': 'Khalid', 'salary': 1000}\n",
        "```"
      ],
      "metadata": {
        "id": "keTauTOfJ0RA"
      }
    },
    {
      "cell_type": "code",
      "source": [
        "#Task5\n",
        "keys = [\"name\", \"salary\"]\n",
        "sample_dict = {\n",
        "    \"name\": \"Khalid\",\n",
        "    \"age\": 23,\n",
        "    \"salary\": 1000,\n",
        "    \"city\": \"Baku\"}\n",
        "filtered={}\n",
        "for key in keys:\n",
        "  if key in sample_dict:\n",
        "    filtered[key]=sample_dict[key]\n",
        "print(filtered)"
      ],
      "metadata": {
        "colab": {
          "base_uri": "https://localhost:8080/"
        },
        "id": "ieuGUooLH4JW",
        "outputId": "0436b37c-1ec5-42f1-980e-c82168ec78aa"
      },
      "execution_count": 13,
      "outputs": [
        {
          "output_type": "stream",
          "name": "stdout",
          "text": [
            "{'name': 'Khalid', 'salary': 1000}\n"
          ]
        }
      ]
    },
    {
      "cell_type": "markdown",
      "source": [
        "6) Take 10 integers from keyboard using loop and print their average value\n",
        "on the screen."
      ],
      "metadata": {
        "id": "KW4qi0i5KNQd"
      }
    },
    {
      "cell_type": "code",
      "source": [
        "#Task6\n",
        "sum=0\n",
        "for i in range(10):\n",
        "  a=int(input('Enter the number:'))\n",
        "  sum+=a\n",
        "print(sum/10)"
      ],
      "metadata": {
        "colab": {
          "base_uri": "https://localhost:8080/"
        },
        "id": "7J3SpvIwPObn",
        "outputId": "c0628ae5-e4d8-4091-e355-4e672442edb9"
      },
      "execution_count": 21,
      "outputs": [
        {
          "output_type": "stream",
          "name": "stdout",
          "text": [
            "Enter the number:1\n",
            "Enter the number:2\n",
            "Enter the number:3\n",
            "Enter the number:4\n",
            "Enter the number:5\n",
            "Enter the number:6\n",
            "Enter the number:7\n",
            "Enter the number:8\n",
            "Enter the number:9\n",
            "Enter the number:10\n",
            "5.5\n"
          ]
        }
      ]
    },
    {
      "cell_type": "markdown",
      "source": [
        "7) Print multiplication table of 24 using loop."
      ],
      "metadata": {
        "id": "yTkI4J3aKOrs"
      }
    },
    {
      "cell_type": "code",
      "source": [
        "#Task7\n",
        "for i in range(1,25):\n",
        "  print('24 x',i,'=',24*i)"
      ],
      "metadata": {
        "colab": {
          "base_uri": "https://localhost:8080/"
        },
        "id": "OeU3rCGKTYN-",
        "outputId": "5317bcf7-180d-4714-e5b2-6ba5c16fbe54"
      },
      "execution_count": 25,
      "outputs": [
        {
          "output_type": "stream",
          "name": "stdout",
          "text": [
            "24 x 1 = 24\n",
            "24 x 2 = 48\n",
            "24 x 3 = 72\n",
            "24 x 4 = 96\n",
            "24 x 5 = 120\n",
            "24 x 6 = 144\n",
            "24 x 7 = 168\n",
            "24 x 8 = 192\n",
            "24 x 9 = 216\n",
            "24 x 10 = 240\n",
            "24 x 11 = 264\n",
            "24 x 12 = 288\n",
            "24 x 13 = 312\n",
            "24 x 14 = 336\n",
            "24 x 15 = 360\n",
            "24 x 16 = 384\n",
            "24 x 17 = 408\n",
            "24 x 18 = 432\n",
            "24 x 19 = 456\n",
            "24 x 20 = 480\n",
            "24 x 21 = 504\n",
            "24 x 22 = 528\n",
            "24 x 23 = 552\n",
            "24 x 24 = 576\n"
          ]
        }
      ]
    },
    {
      "cell_type": "markdown",
      "source": [
        "8) Factorial of any number n is represented by n! and is equal to 1*2*3*....*(n-1)*n.\n",
        "\n",
        "Write a program to calculate factorial of a number.\n",
        "\n",
        "```\n",
        "4! = 1*2*3*4 = 24\n",
        "3! = 3*2*1 = 6\n",
        "2! = 2*1 = 2\n",
        "\n",
        "Also,\n",
        "1! = 1\n",
        "0! = 1\n",
        "```\n"
      ],
      "metadata": {
        "id": "PpkgIjOEKUU0"
      }
    },
    {
      "cell_type": "code",
      "source": [
        "#Task8\n",
        "n=int(input('Enter the number for factorial:'))\n",
        "f=1\n",
        "for i in range(1,n+1):\n",
        "  if n==0 or n==1:\n",
        "    f=1\n",
        "  else:\n",
        "    f=f*i\n",
        "print('Factorial is:', f)"
      ],
      "metadata": {
        "colab": {
          "base_uri": "https://localhost:8080/"
        },
        "id": "uW6iwl53UBQF",
        "outputId": "bb2e271f-ec5d-4b70-9070-a3b2208e72c5"
      },
      "execution_count": 37,
      "outputs": [
        {
          "output_type": "stream",
          "name": "stdout",
          "text": [
            "Enter the number for factorial:3\n",
            "Factorial is: 6\n"
          ]
        }
      ]
    },
    {
      "cell_type": "markdown",
      "source": [
        "9) Write a program that calculates the sum of the digits of a given number. Ask the user to input a number"
      ],
      "metadata": {
        "id": "1V-KIxBHKjiU"
      }
    },
    {
      "cell_type": "code",
      "source": [
        "#Task9\n",
        "n=input('Enter the num: ')\n",
        "sum=0\n",
        "for i in n:\n",
        "  sum+=int(i)\n",
        "print(sum)"
      ],
      "metadata": {
        "colab": {
          "base_uri": "https://localhost:8080/"
        },
        "id": "XeELkJPqUChi",
        "outputId": "daa1c0ea-c37c-4909-b198-ba96f36af4cb"
      },
      "execution_count": 45,
      "outputs": [
        {
          "output_type": "stream",
          "name": "stdout",
          "text": [
            "Enter the num: 123\n",
            "6\n"
          ]
        }
      ]
    },
    {
      "cell_type": "markdown",
      "source": [
        "10) Write a Python program that takes a string input from the user and counts the number of characters in the string."
      ],
      "metadata": {
        "id": "cLIPyMzuLLUU"
      }
    },
    {
      "cell_type": "code",
      "execution_count": 47,
      "metadata": {
        "id": "pmqLrrVLJLGs",
        "colab": {
          "base_uri": "https://localhost:8080/"
        },
        "outputId": "d8fde31c-cebe-4629-df40-722e5415f684"
      },
      "outputs": [
        {
          "output_type": "stream",
          "name": "stdout",
          "text": [
            "Enter the string: jfnkjdef\n",
            "8\n"
          ]
        }
      ],
      "source": [
        "#Task10\n",
        "s=input('Enter the string: ')\n",
        "cnt=0\n",
        "for i in s:\n",
        "  cnt+=1\n",
        "print(cnt)"
      ]
    },
    {
      "cell_type": "markdown",
      "source": [],
      "metadata": {
        "id": "I-N3R34Ecb2h"
      }
    }
  ]
}