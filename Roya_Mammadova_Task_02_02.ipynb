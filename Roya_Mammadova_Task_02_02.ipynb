{
  "nbformat": 4,
  "nbformat_minor": 0,
  "metadata": {
    "colab": {
      "provenance": []
    },
    "kernelspec": {
      "name": "python3",
      "display_name": "Python 3"
    },
    "language_info": {
      "name": "python"
    }
  },
  "cells": [
    {
      "cell_type": "markdown",
      "source": [
        "**1)** Create a class with names of fruits and add a new fruit, \"fig\", to the end of the list and print the updated list.\n",
        "\n",
        "**2)** Create a list with the ages of the children in the class and print the length of the list.\n",
        "\n",
        "**3)** Insert a new fruit, \"grape\", at the second position in the list and print the updated list.\n",
        "\n",
        "**4)** Remove a specific fruit, \"fig\", from the list using the remove method and print the updated list.\n",
        "\n",
        "**5)** Print the last fruit in the list after sorting it in reverse alphabetical order using the sort method.\n",
        "\n",
        "**6)** Create a copy of the list sorted in alphabetical order without modifying the original list, and print both lists.\n",
        "\n",
        "**7)** Delete the values from the first element up to the fourth element in the list given below\n",
        "\n",
        "zodiac_signs = [\"Aries\", \"Taurus\", \"Gemini\", \"Cancer\", \"Capricorn\"]\n",
        "\n",
        "**8)** Prompt the user to enter a name, then print the second letter of the entered name to the screen.\n",
        "\n",
        "**9)** Create a program that asks the user to enter their name and their age. Print out a message addressed to them that tells them the year that they will turn 100 years old. For example,\n",
        "\n",
        "What is your name? Khalid\n",
        "\n",
        "How old are you? 23\n",
        "\n",
        "Khalid will be 100 years old in the year 2101\n",
        "\n",
        "**10)** Write a Python program that accepts an integer (n) and computes the value of n+nn+nnn. Get Input from user. For example, 5 + 55 + 555 = 615"
      ],
      "metadata": {
        "id": "MRDl-lfx7haM"
      }
    },
    {
      "cell_type": "code",
      "execution_count": null,
      "metadata": {
        "id": "PSvesDe07dxA",
        "colab": {
          "base_uri": "https://localhost:8080/"
        },
        "outputId": "029d5a08-5d21-4dcd-b602-50aca1e4a2c2"
      },
      "outputs": [
        {
          "output_type": "stream",
          "name": "stdout",
          "text": [
            "['banana', 'apple', 'orange', 'fig']\n"
          ]
        }
      ],
      "source": [
        "#Task1\n",
        "fruits=['banana','apple','orange']\n",
        "fruits.append('fig')\n",
        "print(fruits)"
      ]
    },
    {
      "cell_type": "code",
      "source": [
        "#Task2\n",
        "ages=[15,12,17,9,14]\n",
        "print(len(ages))"
      ],
      "metadata": {
        "colab": {
          "base_uri": "https://localhost:8080/"
        },
        "id": "c7q05zkS3TNz",
        "outputId": "b6446db7-97e9-4aaa-c810-be787ff6535b"
      },
      "execution_count": null,
      "outputs": [
        {
          "output_type": "stream",
          "name": "stdout",
          "text": [
            "5\n"
          ]
        }
      ]
    },
    {
      "cell_type": "code",
      "source": [
        "#Task3\n",
        "fruits.insert(1,'grape')\n",
        "print(fruits)"
      ],
      "metadata": {
        "colab": {
          "base_uri": "https://localhost:8080/"
        },
        "id": "zHRUbC3G3Xhv",
        "outputId": "a989d51b-a0a9-4e30-ec6e-3bbc9de738cd"
      },
      "execution_count": null,
      "outputs": [
        {
          "output_type": "stream",
          "name": "stdout",
          "text": [
            "['banana', 'grape', 'apple', 'orange', 'fig']\n"
          ]
        }
      ]
    },
    {
      "cell_type": "code",
      "source": [
        "#Task4\n",
        "fruits.remove('fig')\n",
        "print(fruits)"
      ],
      "metadata": {
        "colab": {
          "base_uri": "https://localhost:8080/"
        },
        "id": "zbtgpdK_3YbH",
        "outputId": "9bbd81b0-c20e-4d26-f825-da8f6cb21577"
      },
      "execution_count": null,
      "outputs": [
        {
          "output_type": "stream",
          "name": "stdout",
          "text": [
            "['banana', 'grape', 'apple', 'orange']\n"
          ]
        }
      ]
    },
    {
      "cell_type": "code",
      "source": [
        "#Task5\n",
        "fruits.sort(reverse=True)\n",
        "print(fruits)\n",
        "last_fruit=fruits[-1]\n",
        "print(last_fruit)"
      ],
      "metadata": {
        "colab": {
          "base_uri": "https://localhost:8080/"
        },
        "id": "sVIs9F_73ZZp",
        "outputId": "fab0dbb9-c153-4680-eecc-8a9b67fe6746"
      },
      "execution_count": null,
      "outputs": [
        {
          "output_type": "stream",
          "name": "stdout",
          "text": [
            "['orange', 'grape', 'banana', 'apple']\n",
            "apple\n"
          ]
        }
      ]
    },
    {
      "cell_type": "code",
      "source": [
        "#Task6\n",
        "fruits1=fruits.copy()\n",
        "fruits1.sort()\n",
        "print(fruits)\n",
        "print(fruits1)"
      ],
      "metadata": {
        "colab": {
          "base_uri": "https://localhost:8080/"
        },
        "id": "5Xem_oVv3djk",
        "outputId": "675032c0-1636-4426-d32d-e740484b68bb"
      },
      "execution_count": null,
      "outputs": [
        {
          "output_type": "stream",
          "name": "stdout",
          "text": [
            "['orange', 'grape', 'banana', 'apple']\n",
            "['apple', 'banana', 'grape', 'orange']\n"
          ]
        }
      ]
    },
    {
      "cell_type": "code",
      "source": [
        "#Task7\n",
        "zodiac_signs = [\"Aries\", \"Taurus\", \"Gemini\", \"Cancer\", \"Capricorn\"]\n",
        "del zodiac_signs[0:4]\n",
        "print(zodiac_signs)"
      ],
      "metadata": {
        "colab": {
          "base_uri": "https://localhost:8080/"
        },
        "id": "d1iEN5Vy3jmn",
        "outputId": "16a520f9-1985-4228-d105-4bc16573b5c9"
      },
      "execution_count": null,
      "outputs": [
        {
          "output_type": "stream",
          "name": "stdout",
          "text": [
            "['Capricorn']\n"
          ]
        }
      ]
    },
    {
      "cell_type": "code",
      "source": [
        "#Task8\n",
        "name=input('Enter the name:')\n",
        "print(name[1])"
      ],
      "metadata": {
        "colab": {
          "base_uri": "https://localhost:8080/"
        },
        "id": "iik1j7Eg3kpn",
        "outputId": "a39a5c7b-ecb4-4a07-b1a6-6f2625810747"
      },
      "execution_count": null,
      "outputs": [
        {
          "output_type": "stream",
          "name": "stdout",
          "text": [
            "Enter the name:Roya\n",
            "o\n"
          ]
        }
      ]
    },
    {
      "cell_type": "code",
      "source": [
        "#Task9\n",
        "name=input('What is your name? ')\n",
        "age=int(input('How old are you? '))\n",
        "print(f\"{name} will be 100 years old in the year {2124-age}\")"
      ],
      "metadata": {
        "colab": {
          "base_uri": "https://localhost:8080/"
        },
        "id": "eZbZjBKX3meM",
        "outputId": "8213cfbd-b9ca-42b8-8870-784f34cfe512"
      },
      "execution_count": null,
      "outputs": [
        {
          "output_type": "stream",
          "name": "stdout",
          "text": [
            "What is your name? Roya\n",
            "How old are you? 22\n",
            "Roya will be 100 years old in the year 2102\n"
          ]
        }
      ]
    },
    {
      "cell_type": "code",
      "source": [
        "#Task10\n",
        "n=input()\n",
        "print(n,'+',n+n,'+',n+n+n,'=',int(n)+int(n+n)+int(n+n+n))"
      ],
      "metadata": {
        "colab": {
          "base_uri": "https://localhost:8080/"
        },
        "id": "XqeWjdta3nVk",
        "outputId": "9ea8d81e-1dd3-4e9e-c2a0-259d694e08d6"
      },
      "execution_count": null,
      "outputs": [
        {
          "output_type": "stream",
          "name": "stdout",
          "text": [
            "5\n",
            "5 + 55 + 555 = 615\n"
          ]
        }
      ]
    }
  ]
}