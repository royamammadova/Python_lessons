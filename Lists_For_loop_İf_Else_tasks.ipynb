{
  "nbformat": 4,
  "nbformat_minor": 0,
  "metadata": {
    "colab": {
      "provenance": [],
      "include_colab_link": true
    },
    "kernelspec": {
      "name": "python3",
      "display_name": "Python 3"
    },
    "language_info": {
      "name": "python"
    }
  },
  "cells": [
    {
      "cell_type": "markdown",
      "metadata": {
        "id": "view-in-github",
        "colab_type": "text"
      },
      "source": [
        "<a href=\"https://colab.research.google.com/github/royamammadova/Python_lessons/blob/main/Lists_For_loop_%C4%B0f_Else_tasks.ipynb\" target=\"_parent\"><img src=\"https://colab.research.google.com/assets/colab-badge.svg\" alt=\"Open In Colab\"/></a>"
      ]
    },
    {
      "cell_type": "markdown",
      "source": [
        "# Lists:For Loop and İf Else\n",
        "1. Write a Python program that takes three numbers as input and prints the largest number.\n",
        "\n",
        "2. Write a Python program that create a list of numbers and prints the sum of the elements.\n",
        "\n",
        "3. Write a Python program that create a list of integers and counts the number of even and odd numbers.\n",
        "\n",
        "\n",
        "4. Write a Python program that create a list of numbers (elements = [1, 2, 3, 4, 5])  and prints the reversed list in opposite of the elements in the original list.\n",
        "\n",
        "```\n",
        "Input:\n",
        "[1, 2, 3, 4, 5]\n",
        "Output:\n",
        "[-5, -4, -3, -2, -1]\n",
        "\n",
        "```\n",
        "\n",
        "5. Write a Python program that create a list of numbers and prints the average of the elements.\n",
        "\n",
        "```\n",
        "Input:\n",
        "[1, 2, 3, 4]\n",
        "Average of list elements: 2.5\n",
        "```\n",
        "\n",
        "6. Write a Python program that takes a string as input and counts the number of vowels.\n",
        "\n",
        "```\n",
        "Input:\n",
        "Saida\n",
        "Counts the number of vowels: 3\n",
        "```\n",
        "7. write python code that removes duplicate elements from the list element = [1, 2, 3, 3, 2].\n",
        "```\n",
        "Input:\n",
        "[1, 2, 3, 3, 2]\n",
        "Output:\n",
        "[1, 2, 3]\n",
        "```\n",
        "\n",
        "8. Write a Python program that create a list of numbers and takes a constant as input, and prints a new list where each element is multiplied by the constant..\n",
        "```\n",
        "Input list elements:\n",
        "[1, 2, 3, 3, 2]\n",
        "Constant elements:\n",
        "2\n",
        "Output list:\n",
        "[2, 4, 6, 6, 4]\n",
        "```\n",
        "\n",
        "9. Write a Python program that create a list of numbers and prints only the even numbers.\n"
      ],
      "metadata": {
        "id": "hdSFVbFZMhQN"
      }
    },
    {
      "cell_type": "code",
      "source": [
        "#Task1\n",
        "a=int(input('Enter the first num:'))\n",
        "b=int(input('Enter the second num:'))\n",
        "c=int(input('Enter the third num:'))\n",
        "print('The largest is: ',max(a,b,c))"
      ],
      "metadata": {
        "id": "WMLoSXOIbLcc",
        "colab": {
          "base_uri": "https://localhost:8080/"
        },
        "outputId": "1e81a9d3-fe78-46c3-a512-579bfb6167e3"
      },
      "execution_count": null,
      "outputs": [
        {
          "output_type": "stream",
          "name": "stdout",
          "text": [
            "Enter the first num:1\n",
            "Enter the second num:2\n",
            "Enter the third num:3\n",
            "The largest is:  3\n"
          ]
        }
      ]
    },
    {
      "cell_type": "code",
      "source": [
        "#Task2\n",
        "l1=[1,2,3,4,5]\n",
        "sum=0\n",
        "for i in l1:\n",
        "  sum=sum+i\n",
        "print('The sum is: ',sum)"
      ],
      "metadata": {
        "id": "_pWb9bwd6Ucq",
        "colab": {
          "base_uri": "https://localhost:8080/"
        },
        "outputId": "6280e5bd-0158-4cc8-8acb-88cb41992d60"
      },
      "execution_count": null,
      "outputs": [
        {
          "output_type": "stream",
          "name": "stdout",
          "text": [
            "The sum is:  15\n"
          ]
        }
      ]
    },
    {
      "cell_type": "code",
      "source": [
        "#Task3\n",
        "l2=[1,2,3,4,5,6,7,8,9]\n",
        "even=0\n",
        "odd=0\n",
        "for i in l2:\n",
        "  if i%2==0:\n",
        "    even+=1\n",
        "  else:\n",
        "    odd+=1\n",
        "print('The count of even nums:',even)\n",
        "print('The count of odd nums:',odd)"
      ],
      "metadata": {
        "colab": {
          "base_uri": "https://localhost:8080/"
        },
        "id": "L5DMZe3Qoi0y",
        "outputId": "41ecb471-43c7-44e6-e3e4-5217a9d46576"
      },
      "execution_count": null,
      "outputs": [
        {
          "output_type": "stream",
          "name": "stdout",
          "text": [
            "The count of even nums: 4\n",
            "The count of odd nums: 5\n"
          ]
        }
      ]
    },
    {
      "cell_type": "code",
      "source": [
        "#Task4\n",
        "l3=[1,2,3,4,5]\n",
        "l3.reverse()\n",
        "rev=[]\n",
        "for i in l3:\n",
        "  rev.append(-i)\n",
        "print(rev)"
      ],
      "metadata": {
        "colab": {
          "base_uri": "https://localhost:8080/"
        },
        "id": "eFvtf_-roi9C",
        "outputId": "61cc902e-6d44-4504-c5ef-c93a21a9272e"
      },
      "execution_count": null,
      "outputs": [
        {
          "output_type": "stream",
          "name": "stdout",
          "text": [
            "[-5, -4, -3, -2, -1]\n"
          ]
        }
      ]
    },
    {
      "cell_type": "code",
      "source": [
        "#Task5\n",
        "l4=[1, 2, 3, 4]\n",
        "sum=0\n",
        "for i in l4:\n",
        "  sum=sum+i\n",
        "print('Average of list elements: ',sum/len(l4))"
      ],
      "metadata": {
        "colab": {
          "base_uri": "https://localhost:8080/"
        },
        "id": "A_2RUR36ojD1",
        "outputId": "1f2af9bd-4bc6-43ed-dbc0-32dbfeac3135"
      },
      "execution_count": null,
      "outputs": [
        {
          "output_type": "stream",
          "name": "stdout",
          "text": [
            "Average of list elements:  2.5\n"
          ]
        }
      ]
    },
    {
      "cell_type": "code",
      "source": [
        "#Task6\n",
        "name=input('Enter a string: ')\n",
        "vowels=['a','e','i','o','u','A','E','I','O','U']\n",
        "count=0\n",
        "for i in name:\n",
        "  if i in vowels:\n",
        "    count+=1\n",
        "print(count)"
      ],
      "metadata": {
        "colab": {
          "base_uri": "https://localhost:8080/"
        },
        "id": "QDRwct7lul3N",
        "outputId": "2363a3fc-0a71-42e2-ed41-427fe2824603"
      },
      "execution_count": null,
      "outputs": [
        {
          "output_type": "stream",
          "name": "stdout",
          "text": [
            "Enter a string: I am Roya\n",
            "4\n"
          ]
        }
      ]
    },
    {
      "cell_type": "code",
      "source": [
        "#Task7\n",
        "l5 = [1, 2, 3, 3, 2]\n",
        "removed=list(set(l5))\n",
        "print(removed)"
      ],
      "metadata": {
        "colab": {
          "base_uri": "https://localhost:8080/"
        },
        "id": "48r2-P010m-0",
        "outputId": "ec51b140-8229-43b8-aaa6-be3710119b3b"
      },
      "execution_count": null,
      "outputs": [
        {
          "output_type": "stream",
          "name": "stdout",
          "text": [
            "[1, 2, 3]\n"
          ]
        }
      ]
    },
    {
      "cell_type": "code",
      "source": [
        "#Task8\n",
        "l6=[1, 2, 3, 3, 2]\n",
        "l7=[]\n",
        "e=int(input('Constant element: '))\n",
        "for i in l6:\n",
        "  i=i*e\n",
        "  l7.append(i)\n",
        "print(l7)"
      ],
      "metadata": {
        "colab": {
          "base_uri": "https://localhost:8080/"
        },
        "id": "4itpJsqk0nJd",
        "outputId": "45fe4411-4f22-48de-f1b3-d570d6356488"
      },
      "execution_count": null,
      "outputs": [
        {
          "output_type": "stream",
          "name": "stdout",
          "text": [
            "Constant element: 2\n",
            "[2, 4, 6, 6, 4]\n"
          ]
        }
      ]
    },
    {
      "cell_type": "code",
      "source": [
        "#Task9\n",
        "l8=[1,2,3,4,5,6,7,8,9]\n",
        "even_list=[]\n",
        "for i in l2:\n",
        "  if i%2==0:\n",
        "    even_list.append(i)\n",
        "print(even_list)"
      ],
      "metadata": {
        "colab": {
          "base_uri": "https://localhost:8080/"
        },
        "id": "IosLIxgT0uSU",
        "outputId": "b5ff577e-032f-4cbd-c9de-642c6b1045ea"
      },
      "execution_count": null,
      "outputs": [
        {
          "output_type": "stream",
          "name": "stdout",
          "text": [
            "[2, 4, 6, 8]\n"
          ]
        }
      ]
    }
  ]
}