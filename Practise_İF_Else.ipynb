{
  "nbformat": 4,
  "nbformat_minor": 0,
  "metadata": {
    "colab": {
      "provenance": [],
      "include_colab_link": true
    },
    "kernelspec": {
      "name": "python3",
      "display_name": "Python 3"
    },
    "language_info": {
      "name": "python"
    }
  },
  "cells": [
    {
      "cell_type": "markdown",
      "metadata": {
        "id": "view-in-github",
        "colab_type": "text"
      },
      "source": [
        "<a href=\"https://colab.research.google.com/github/royamammadova/Python_lessons/blob/main/Practise_%C4%B0F_Else.ipynb\" target=\"_parent\"><img src=\"https://colab.research.google.com/assets/colab-badge.svg\" alt=\"Open In Colab\"/></a>"
      ]
    },
    {
      "cell_type": "markdown",
      "source": [
        "1) Write a program that takes a day of the week as input (e.g., \"Monday\", \"Tuesday\") and prints whether it is a weekday or a weekend."
      ],
      "metadata": {
        "id": "Z9kmhge2flJv"
      }
    },
    {
      "cell_type": "markdown",
      "source": [
        "2) Write a program that classifies the temperature based on the following criteria:\n",
        "If the temperature is below -50°C or above 50°C, classify it as \"Extreme\".\n",
        "\n",
        "If the temperature is between -50°C and -20°C, classify it as \"Very Cold\".\n",
        "\n",
        "If the temperature is between -20°C and 0°C, classify it as \"Cold\".\n",
        "\n",
        "If the temperature is between 0°C and 20°C, classify it as \"Moderate\".\n",
        "\n",
        "If the temperature is between 20°C and 35°C, classify it as \"Warm\".\n",
        "\n",
        "If the temperature is between 35°C and 50°C, classify it as \"Hot\".\n",
        "\n",
        "Additionally, if the temperature is below freezing (0°C), print a warning message for potential frostbite.\n",
        "\n",
        "If the temperature is above 35°C, print a warning message for potential heatstroke."
      ],
      "metadata": {
        "id": "5e3OCcYCfoUC"
      }
    },
    {
      "cell_type": "markdown",
      "source": [
        "3) Write a program that validates a username and password based on the following criteria:\n",
        "The username must be at least 5 characters long.\n",
        "\n",
        "The password must be at least 8 characters long and must contain at least one digit.\n",
        "\n",
        "If both conditions are met, print \"Login successful\".\n",
        "\n",
        "If the username is too short, print \"Username is too short\".\n",
        "\n",
        "If the password is too short or lacks a digit, print \"Password is invalid\"."
      ],
      "metadata": {
        "id": "gr7zi8CogC7R"
      }
    },
    {
      "cell_type": "markdown",
      "source": [
        "4) Write a program that calculates the total price of items after applying discounts based on the following criteria:\n",
        "If the total price is above $500, apply a 10% discount.\n",
        "\n",
        "If the total price is above $1000, apply an additional 5% discount (total 15%).\n",
        "\n",
        "If the total price is below $100, add a 10 dollar shipping fee.\n",
        "\n",
        "Print the final price."
      ],
      "metadata": {
        "id": "divRCLC7gHIy"
      }
    },
    {
      "cell_type": "markdown",
      "source": [
        "5) 5. Write a program that converts a numerical grade (0-100) into a letter grade based on the following criteria:\n",
        "\n",
        "90-100: A\n",
        "\n",
        "80-89: B\n",
        "\n",
        "70-79: C\n",
        "\n",
        "60-69: D\n",
        "\n",
        "Below 60: F\n",
        "\n",
        "If the grade is not within the 0-100 range, print \"Invalid grade\".\n",
        "\n",
        "Print the corresponding letter grade."
      ],
      "metadata": {
        "id": "hS_ikSKbgMTB"
      }
    },
    {
      "cell_type": "markdown",
      "source": [
        "6) 6. Write a program that calculates the price of a movie ticket based on the age of the customer and the day of the week:\n",
        "\n",
        "Children under 12 years old get a 50% discount on weekdays.\n",
        "\n",
        "Seniors (65 years and older) get a 30% discount on weekdays.\n",
        "\n",
        "No discounts are applied on weekends.\n",
        "\n",
        "The base price of a ticket is $15.\n",
        "\n",
        "Print the final ticket price."
      ],
      "metadata": {
        "id": "5xQOuTcggN9w"
      }
    },
    {
      "cell_type": "markdown",
      "source": [
        "7) 7. Write a program that takes a person's age as input and classifies them into one of the following age groups:\n",
        "\n",
        "\"Infant\" (0-1 years)\n",
        "\n",
        "\"Child\" (2-12 years)\n",
        "\n",
        "\"Teenager\" (13-19 years)\n",
        "\n",
        "\"Adult\" (20-64 years)\n",
        "\n",
        "\"Senior\" (65 years and older)"
      ],
      "metadata": {
        "id": "K6Hhm9ANgWbb"
      }
    },
    {
      "cell_type": "code",
      "execution_count": null,
      "metadata": {
        "id": "JcB7p50Mfj81",
        "colab": {
          "base_uri": "https://localhost:8080/"
        },
        "outputId": "3c775d13-b496-4ada-cfc2-a5e8e9a1574d"
      },
      "outputs": [
        {
          "output_type": "stream",
          "name": "stdout",
          "text": [
            "Enter the day of week: Tuesday\n",
            "It is weekday\n"
          ]
        }
      ],
      "source": [
        "#Task1\n",
        "day=input('Enter the day of week: ')\n",
        "if day=='Monday' or day=='Tuesday' or day=='Wednesday' or day=='Thursday' or day=='Friday':\n",
        "  print('It is weekday')\n",
        "else:\n",
        "  print('It is weekend')"
      ]
    },
    {
      "cell_type": "code",
      "source": [
        "#Task2\n",
        "temp=int(input('Enter the temperature: '))\n",
        "if temp>=-50 and temp<=-20:\n",
        "  print('Very Cold')\n",
        "if temp>-20 and temp<=0:\n",
        "  print('Cold')\n",
        "if temp>0 and temp<=20:\n",
        "  print('Moderate')\n",
        "if temp>20 and temp<=35:\n",
        "  print('Warm')\n",
        "if temp>35 and temp<=50:\n",
        "  print('Hot')\n",
        "if temp <-50 and temp>50:\n",
        "  print('Extreme')\n",
        "if temp<0:\n",
        "  print('Warning message:potential frostbite')\n",
        "if temp>35:\n",
        "  print('Warning message:potential heatstroke')\n"
      ],
      "metadata": {
        "colab": {
          "base_uri": "https://localhost:8080/"
        },
        "id": "qCQtuBN09bk2",
        "outputId": "2106abae-d2f0-41c6-81d7-36cae9a0c045"
      },
      "execution_count": null,
      "outputs": [
        {
          "output_type": "stream",
          "name": "stdout",
          "text": [
            "Enter the temperature: 50\n",
            "Hot\n",
            "Warning message:potential heatstroke\n"
          ]
        }
      ]
    },
    {
      "cell_type": "code",
      "source": [
        "#Task3\n",
        "username=input('Enter the username: ')\n",
        "password=input('Enter the password: ')\n",
        "pass_check=False\n",
        "for i in password:\n",
        "  if i.isdigit():\n",
        "    pass_check=True\n",
        "    break\n",
        "if len(username)<5:\n",
        "  print('Username is too short')\n",
        "else:\n",
        "  if len(username)>5 and len(password)>=8 and pass_check is True:\n",
        "    print('Login successfully')\n",
        "  elif len(password)<8 or pass_check is False:\n",
        "    print('Password is invalid')"
      ],
      "metadata": {
        "colab": {
          "base_uri": "https://localhost:8080/"
        },
        "id": "qKz6Dysf9bt4",
        "outputId": "3c9771ac-2866-4885-c7d1-f8f7335cf106"
      },
      "execution_count": null,
      "outputs": [
        {
          "output_type": "stream",
          "name": "stdout",
          "text": [
            "Enter the username: ccxsvdfcds\n",
            "Enter the password: dnjc62\n",
            "Password is invalid\n"
          ]
        }
      ]
    },
    {
      "cell_type": "code",
      "source": [
        "#Task4\n",
        "price=int(input('Enter the price:'))\n",
        "if price<=100:\n",
        "  print('Final price is: ',price+10)\n",
        "elif price>500 and price<1000:\n",
        "  print('Final price is: ',0.9*price)\n",
        "elif price>=1000:\n",
        "  print('Final price is: ',0.85*price)"
      ],
      "metadata": {
        "colab": {
          "base_uri": "https://localhost:8080/"
        },
        "id": "2s9gZkJp9b1f",
        "outputId": "356ad3ed-faa3-4f5c-8dd0-ca9e87d79515"
      },
      "execution_count": null,
      "outputs": [
        {
          "output_type": "stream",
          "name": "stdout",
          "text": [
            "Enter the price:5\n",
            "Final price is:  15\n"
          ]
        }
      ]
    },
    {
      "cell_type": "code",
      "source": [
        "#Task5\n",
        "grade=int(input('Enter the grade:'))\n",
        "if grade<=100 and grade>=90:\n",
        "  print('A')\n",
        "elif grade<=89 and grade>=80:\n",
        "  print('B')\n",
        "elif grade<=79 and grade>=70:\n",
        "  print('C')\n",
        "elif grade<=69 and grade>=60:\n",
        "  print('D')\n",
        "elif grade<60:\n",
        "  print('F')\n",
        "else:\n",
        "  print('Invalid grade')"
      ],
      "metadata": {
        "colab": {
          "base_uri": "https://localhost:8080/"
        },
        "id": "zkUAlkTQ9b9w",
        "outputId": "eaf4ee92-dfa6-431d-8b23-ff6a1b5f57d0"
      },
      "execution_count": null,
      "outputs": [
        {
          "output_type": "stream",
          "name": "stdout",
          "text": [
            "Enter the grade:80\n",
            "B\n"
          ]
        }
      ]
    },
    {
      "cell_type": "code",
      "source": [
        "#Task6\n",
        "ticket=15\n",
        "age=int(input('Enter the age of child: '))\n",
        "day=input('Enter the day of week: ')\n",
        "if age<12 and day=='Monday' or day=='Tuesday' or day=='Wednesday' or day=='Thursday' or day=='Friday':\n",
        "  print('Final ticket price is: ', ticket*0.5)\n",
        "elif age>=65 and day=='Monday' or day=='Tuesday' or day=='Wednesday' or day=='Thursday' or day=='Friday':\n",
        "  print('Final ticket price is: ', ticket*0.3)\n",
        "else:\n",
        "  print('Final ticket price is: ', ticket)\n"
      ],
      "metadata": {
        "colab": {
          "base_uri": "https://localhost:8080/"
        },
        "id": "ZjyrgP5G9cGK",
        "outputId": "391eae5a-40c8-4c51-bf6d-cac394bd1975"
      },
      "execution_count": null,
      "outputs": [
        {
          "output_type": "stream",
          "name": "stdout",
          "text": [
            "Enter the age of child: 5\n",
            "Enter the day of week: Friday\n",
            "Final ticket price is:  7.5\n"
          ]
        }
      ]
    },
    {
      "cell_type": "code",
      "source": [
        "#Task7\n",
        "age=int(input('Enter the age: '))\n",
        "if age==0 or age==1:\n",
        "  print('Infant')\n",
        "elif age>=2 and age<=12:\n",
        "  print('Child')\n",
        "elif age>=13 and age<=19:\n",
        "  print('Teenager')\n",
        "elif age>=20 and age<=64:\n",
        "  print('Adult')\n",
        "else:\n",
        "  print('Senior')"
      ],
      "metadata": {
        "colab": {
          "base_uri": "https://localhost:8080/"
        },
        "id": "jqdgJwKV9cNi",
        "outputId": "7852cb02-dd52-41e9-d946-5e7ffb5200e9"
      },
      "execution_count": null,
      "outputs": [
        {
          "output_type": "stream",
          "name": "stdout",
          "text": [
            "Enter the age: 70\n",
            "Senior\n"
          ]
        }
      ]
    }
  ]
}