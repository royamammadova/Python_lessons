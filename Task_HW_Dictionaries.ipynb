{
  "nbformat": 4,
  "nbformat_minor": 0,
  "metadata": {
    "colab": {
      "provenance": [],
      "include_colab_link": true
    },
    "kernelspec": {
      "name": "python3",
      "display_name": "Python 3"
    },
    "language_info": {
      "name": "python"
    }
  },
  "cells": [
    {
      "cell_type": "markdown",
      "metadata": {
        "id": "view-in-github",
        "colab_type": "text"
      },
      "source": [
        "<a href=\"https://colab.research.google.com/github/royamammadova/Python_lessons/blob/main/Task_HW_Dictionaries.ipynb\" target=\"_parent\"><img src=\"https://colab.research.google.com/assets/colab-badge.svg\" alt=\"Open In Colab\"/></a>"
      ]
    },
    {
      "cell_type": "markdown",
      "source": [
        "1) Write a program to merge two dictionaries into one. If there are overlapping keys, sum their values.\n",
        "\n",
        "2) Write a Python program to create an empty dictionary.\n",
        "\n",
        "3) Write a Python script to iterate over a dictionary and print all key-value pairs.\n",
        "\n",
        "4) Write a Python program to remove the key-value pair with key 'age' from  dictionary\n",
        "\n",
        "5) Write a program to sort a dictionary by its keys in ascending order and print the sorted dictionary.\n",
        "\n",
        "6) Given a dictionary students_scores = {'Alice': 85, 'Bob': 90}, update the score for 'Alice' to 95. If 'Charlie' does not exist in the dictionary, add 'Charlie' with a default score of 60.\n",
        "\n",
        "7) Write a Python program to print all the values in  dictionary:\n",
        "\n",
        "8) Given a dictionary item_prices = {'apple': 1.00, 'banana': 0.50}, calculate the total price of all items. Then, apply a 10% discount to all items and update the dictionary."
      ],
      "metadata": {
        "id": "e22kUXzLqnG4"
      }
    },
    {
      "cell_type": "code",
      "execution_count": null,
      "metadata": {
        "id": "IdltApYrqmG3",
        "colab": {
          "base_uri": "https://localhost:8080/"
        },
        "outputId": "22cb2941-1840-42a0-ef0d-944c599ed246"
      },
      "outputs": [
        {
          "output_type": "stream",
          "name": "stdout",
          "text": [
            "{'apple': 'almaal', 'pear': 'armud', 'banana': 'banan', 'food': 'yemek'}\n"
          ]
        }
      ],
      "source": [
        "#Task1\n",
        "dict1={'apple':'alma','pear':'armud'}\n",
        "dict2={'banana':'banan','food':'yemek','apple':'al'}\n",
        "dict3 = dict1.copy()\n",
        "for key,value in dict2.items():\n",
        "    if key in dict3:\n",
        "        dict3[key]+=value\n",
        "    else:\n",
        "        dict3[key]=value\n",
        "print(dict3)"
      ]
    },
    {
      "cell_type": "code",
      "source": [
        "#Task2\n",
        "dict4={}\n",
        "print(dict4)"
      ],
      "metadata": {
        "colab": {
          "base_uri": "https://localhost:8080/"
        },
        "id": "8KgHsCJXDw-W",
        "outputId": "5a859ac3-b3d1-44e3-8783-1c7ff0058e9b"
      },
      "execution_count": null,
      "outputs": [
        {
          "output_type": "stream",
          "name": "stdout",
          "text": [
            "{}\n"
          ]
        }
      ]
    },
    {
      "cell_type": "code",
      "source": [
        "#Task3\n",
        "favorite_languages = {\n",
        "  'jen': 'python',\n",
        "  'sarah': 'c',\n",
        "  'edward': 'rust',\n",
        "  'phil': 'python',\n",
        "  }\n",
        "for i in favorite_languages.items():\n",
        "  print(i)\n"
      ],
      "metadata": {
        "colab": {
          "base_uri": "https://localhost:8080/"
        },
        "id": "S8YY8IrrDxPv",
        "outputId": "59e3beb5-20ad-4fb9-9237-88398954de40"
      },
      "execution_count": null,
      "outputs": [
        {
          "output_type": "stream",
          "name": "stdout",
          "text": [
            "('jen', 'python')\n",
            "('sarah', 'c')\n",
            "('edward', 'rust')\n",
            "('phil', 'python')\n"
          ]
        }
      ]
    },
    {
      "cell_type": "code",
      "source": [
        "#Task4\n",
        "user={'name':'Roya','age':22,'surname':'Mammadova'}\n",
        "print(user)\n",
        "del user['age']\n",
        "print(user)"
      ],
      "metadata": {
        "colab": {
          "base_uri": "https://localhost:8080/"
        },
        "id": "LeXOidpyDxTO",
        "outputId": "5f6d1b19-1182-437e-ad3d-951a9b8b0705"
      },
      "execution_count": null,
      "outputs": [
        {
          "output_type": "stream",
          "name": "stdout",
          "text": [
            "{'name': 'Roya', 'age': 22, 'surname': 'Mammadova'}\n",
            "{'name': 'Roya', 'surname': 'Mammadova'}\n"
          ]
        }
      ]
    },
    {
      "cell_type": "code",
      "source": [
        "#Task5\n",
        "dict_nums={4:'four',1:'one',2:'two',3:'three'}\n",
        "sort_dict={}\n",
        "for key in sorted(dict_nums):\n",
        "  sort_dict[key]=dict_nums[key]\n",
        "print(dict_nums)\n",
        "print(sort_dict)"
      ],
      "metadata": {
        "colab": {
          "base_uri": "https://localhost:8080/"
        },
        "id": "FfpZGggoQRlo",
        "outputId": "e67469a1-f6c5-4294-c451-e8a30ec2841c"
      },
      "execution_count": null,
      "outputs": [
        {
          "output_type": "stream",
          "name": "stdout",
          "text": [
            "{4: 'four', 1: 'one', 2: 'two', 3: 'three'}\n",
            "{1: 'one', 2: 'two', 3: 'three', 4: 'four'}\n"
          ]
        }
      ]
    },
    {
      "cell_type": "code",
      "source": [
        "#Task6\n",
        "students_scores = {'Alice': 85, 'Bob': 90}\n",
        "print(students_scores)\n",
        "students_scores['Alice']=95\n",
        "students_scores['Charlie']=students_scores.get('Charlie', 60)\n",
        "print(students_scores)"
      ],
      "metadata": {
        "colab": {
          "base_uri": "https://localhost:8080/"
        },
        "id": "kw3sfLsxQR35",
        "outputId": "a7d12319-4689-4d95-8b3a-be4d0e8ac4b1"
      },
      "execution_count": null,
      "outputs": [
        {
          "output_type": "stream",
          "name": "stdout",
          "text": [
            "{'Alice': 85, 'Bob': 90}\n",
            "{'Alice': 95, 'Bob': 90, 'Charlie': 60}\n"
          ]
        }
      ]
    },
    {
      "cell_type": "code",
      "source": [
        "#Task7\n",
        "print(students_scores.values())"
      ],
      "metadata": {
        "colab": {
          "base_uri": "https://localhost:8080/"
        },
        "id": "8xaA77uJQR_J",
        "outputId": "bfe8f83d-f701-451a-9ac3-8520198dfcdc"
      },
      "execution_count": null,
      "outputs": [
        {
          "output_type": "stream",
          "name": "stdout",
          "text": [
            "dict_values([95, 90, 60])\n"
          ]
        }
      ]
    },
    {
      "cell_type": "code",
      "source": [
        "#Task8\n",
        "item_prices = {'apple': 1.00, 'banana': 0.50}\n",
        "total_price=sum(item_prices.values())\n",
        "new_prices={}\n",
        "print('Sum of all item prices is ',total_price)\n",
        "for key,value in item_prices.items():\n",
        "  new_prices[key]=value*0.9\n",
        "print(new_prices)"
      ],
      "metadata": {
        "colab": {
          "base_uri": "https://localhost:8080/"
        },
        "id": "TKq-ETSRaHOp",
        "outputId": "aacf0363-7189-430b-aee9-c50f7aa16691"
      },
      "execution_count": null,
      "outputs": [
        {
          "output_type": "stream",
          "name": "stdout",
          "text": [
            "Sum of all item prices is  1.5\n",
            "{'apple': 0.9, 'banana': 0.45}\n"
          ]
        }
      ]
    }
  ]
}